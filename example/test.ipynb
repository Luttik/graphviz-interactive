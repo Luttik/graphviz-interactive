{
 "cells": [
  {
   "cell_type": "code",
   "execution_count": null,
   "metadata": {},
   "outputs": [],
   "source": [
    "from graphviz import Digraph\n",
    "\n",
    "dot_with_lancelot = Digraph(comment='The Round Table')\n",
    "dot_with_lancelot.node('A', 'King Arthur')\n",
    "dot_with_lancelot.node('B', 'Sir Bedevere the Wise')\n",
    "dot_with_lancelot.node('L', 'Sir Lancelot the Brave')\n",
    "dot_with_lancelot.edges(['AB', 'AL'])\n",
    "dot_with_lancelot.edge('B', 'L', constraint='false')\n",
    "dot_with_lancelot"
   ]
  },
  {
   "cell_type": "code",
   "execution_count": null,
   "metadata": {},
   "outputs": [],
   "source": [
    "dot_without_lancelot = Digraph(comment='The Round Table')\n",
    "dot_without_lancelot.node('A', 'King Arthur')\n",
    "dot_without_lancelot.node('B', 'Sir Bedevere the Wise')\n",
    "dot_without_lancelot.edges(['AB'])\n",
    "dot_without_lancelot\n",
    "dot_without_lancelot.render()"
   ]
  },
  {
   "cell_type": "code",
   "execution_count": null,
   "metadata": {
    "pycharm": {
     "name": "#%%\n"
    }
   },
   "outputs": [],
   "source": [
    "# load the Preliminaries\n",
    "from IPython.core.display import display, HTML\n",
    "from string import Template\n",
    "import json, random"
   ]
  }
 ],
 "metadata": {
  "kernelspec": {
   "display_name": "Python 3",
   "language": "python",
   "name": "python3"
  },
  "language_info": {
   "codemirror_mode": {
    "name": "ipython",
    "version": 3
   },
   "file_extension": ".py",
   "mimetype": "text/x-python",
   "name": "python",
   "nbconvert_exporter": "python",
   "pygments_lexer": "ipython3",
   "version": "3.8.2"
  }
 },
 "nbformat": 4,
 "nbformat_minor": 4
}