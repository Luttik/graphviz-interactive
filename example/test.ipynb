{
 "cells": [
  {
   "cell_type": "code",
   "execution_count": null,
   "metadata": {},
   "outputs": [],
   "source": [
    "from graphviz import Digraph\n",
    "\n",
    "dot_with_lancelot = Digraph(comment='The Round Table')\n",
    "dot_with_lancelot.node('A', 'King Arthur')\n",
    "dot_with_lancelot.node('B', 'Sir Bedevere the Wise')\n",
    "dot_with_lancelot.node('L', 'Sir Lancelot the Brave')\n",
    "dot_with_lancelot.edges(['AB', 'AL'])\n",
    "dot_with_lancelot.edge('B', 'L', constraint='false')\n",
    "dot_with_lancelot"
   ]
  },
  {
   "cell_type": "code",
   "execution_count": null,
   "metadata": {},
   "outputs": [],
   "source": [
    "dot_without_lancelot = Digraph(comment='The Round Table')\n",
    "dot_without_lancelot.node('A', 'King Arthur')\n",
    "dot_without_lancelot.node('B', 'Sir Bedevere the Wise')\n",
    "dot_without_lancelot.edges(['AB'])\n",
    "dot_without_lancelot"
   ]
  },
  {
   "cell_type": "code",
   "execution_count": 7,
   "metadata": {
    "pycharm": {
     "name": "#%%\n"
    }
   },
   "outputs": [
    {
     "ename": "NameError",
     "evalue": "name 'widget_test' is not defined",
     "output_type": "error",
     "traceback": [
      "\u001B[1;31m---------------------------------------------------------------------------\u001B[0m",
      "\u001B[1;31mNameError\u001B[0m                                 Traceback (most recent call last)",
      "\u001B[1;32m<ipython-input-7-bc0c308e2298>\u001B[0m in \u001B[0;36m<module>\u001B[1;34m\u001B[0m\n\u001B[0;32m      2\u001B[0m \u001B[1;32mfrom\u001B[0m \u001B[0mimportlib\u001B[0m \u001B[1;32mimport\u001B[0m \u001B[0mreload\u001B[0m\u001B[1;33m\u001B[0m\u001B[1;33m\u001B[0m\u001B[0m\n\u001B[0;32m      3\u001B[0m \u001B[1;31m# zodat hij de meest up-to-date code heeft\\n\",\u001B[0m\u001B[1;33m\u001B[0m\u001B[1;33m\u001B[0m\u001B[1;33m\u001B[0m\u001B[0m\n\u001B[1;32m----> 4\u001B[1;33m \u001B[0mwidget_test\u001B[0m\u001B[1;33m.\u001B[0m\u001B[0mgraphviz\u001B[0m\u001B[1;33m.\u001B[0m\u001B[0mGraphviz\u001B[0m\u001B[1;33m(\u001B[0m\u001B[1;33m)\u001B[0m\u001B[1;33m\u001B[0m\u001B[1;33m\u001B[0m\u001B[0m\n\u001B[0m",
      "\u001B[1;31mNameError\u001B[0m: name 'widget_test' is not defined"
     ]
    }
   ],
   "source": [
    "from widget_test import graphviz\n",
    "from importlib import reload\n",
    "# zodat hij de meest up-to-date code heeft\\n\",\n",
    "widget_test.graphviz.Graphviz()"
   ]
  }
 ],
 "metadata": {
  "kernelspec": {
   "display_name": "Python 3",
   "language": "python",
   "name": "python3"
  },
  "language_info": {
   "codemirror_mode": {
    "name": "ipython",
    "version": 3
   },
   "file_extension": ".py",
   "mimetype": "text/x-python",
   "name": "python",
   "nbconvert_exporter": "python",
   "pygments_lexer": "ipython3",
   "version": "3.8.2"
  }
 },
 "nbformat": 4,
 "nbformat_minor": 4
}